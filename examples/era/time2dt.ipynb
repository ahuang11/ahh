{
 "cells": [
  {
   "cell_type": "code",
   "execution_count": 1,
   "metadata": {
    "collapsed": false
   },
   "outputs": [],
   "source": [
    "from ahh import era"
   ]
  },
  {
   "cell_type": "code",
   "execution_count": 2,
   "metadata": {
    "collapsed": false
   },
   "outputs": [
    {
     "data": {
      "text/plain": [
       "DatetimeIndex(['1990-12-03', '2000-01-04', '2010-02-05'], dtype='datetime64[ns]', freq=None)"
      ]
     },
     "execution_count": 2,
     "metadata": {},
     "output_type": "execute_result"
    }
   ],
   "source": [
    "years = [1990, 2000, 2010]\n",
    "months = [12, 1, 2]\n",
    "days = [3, 4, 5]\n",
    "\n",
    "era.time2dt(year=years, month=months, day=days, strf=None) # concatenate lists of years, months, days into a datetime array"
   ]
  },
  {
   "cell_type": "code",
   "execution_count": 3,
   "metadata": {
    "collapsed": false
   },
   "outputs": [
    {
     "data": {
      "text/plain": [
       "DatetimeIndex(['1990-12-03 06:09:00', '2000-01-04 07:10:00',\n",
       "               '2010-02-05 08:11:00'],\n",
       "              dtype='datetime64[ns]', freq=None)"
      ]
     },
     "execution_count": 3,
     "metadata": {},
     "output_type": "execute_result"
    }
   ],
   "source": [
    "years = [1990, 2000, 2010]\n",
    "months = [12, 1, 2]\n",
    "days = [3, 4, 5]\n",
    "hours = [6, 7, 8]\n",
    "minutes = [9, 10, 11]\n",
    "\n",
    "era.time2dt(year=years, month=months, day=days, \n",
    "            hour=hours, minute=minutes, strf=None) # can also include hours and minutes"
   ]
  },
  {
   "cell_type": "code",
   "execution_count": 4,
   "metadata": {
    "collapsed": false
   },
   "outputs": [
    {
     "data": {
      "text/plain": [
       "DatetimeIndex(['2017-02-04', '2016-01-03', '2015-12-02'], dtype='datetime64[ns]', freq=None)"
      ]
     },
     "execution_count": 4,
     "metadata": {},
     "output_type": "execute_result"
    }
   ],
   "source": [
    "date_str_list = ['20170204', '20160103', '20151202']\n",
    "era.time2dt(date_str_list) # can also convert list of date strings into datetime array"
   ]
  },
  {
   "cell_type": "code",
   "execution_count": 5,
   "metadata": {
    "collapsed": false
   },
   "outputs": [
    {
     "data": {
      "text/plain": [
       "DatetimeIndex(['2017-02-04 07:00:00', '2016-01-03 06:00:00',\n",
       "               '2015-12-02 05:00:00'],\n",
       "              dtype='datetime64[ns]', freq=None)"
      ]
     },
     "execution_count": 5,
     "metadata": {},
     "output_type": "execute_result"
    }
   ],
   "source": [
    "date_str_list = ['2017YR_02MTH_04DAY_7Z', '2016YR_01MTH_03DAY_6Z', '2015YR_12MTH_02DAY_5Z']\n",
    "era.time2dt(date_str_list, strf='%YYR_%mMTH_%dDAY_%HZ') # can also convert unusually formatted date strings"
   ]
  },
  {
   "cell_type": "code",
   "execution_count": null,
   "metadata": {
    "collapsed": true
   },
   "outputs": [],
   "source": []
  }
 ],
 "metadata": {
  "kernelspec": {
   "display_name": "Python 3",
   "language": "python",
   "name": "python3"
  },
  "language_info": {
   "codemirror_mode": {
    "name": "ipython",
    "version": 3
   },
   "file_extension": ".py",
   "mimetype": "text/x-python",
   "name": "python",
   "nbconvert_exporter": "python",
   "pygments_lexer": "ipython3",
   "version": "3.5.3"
  }
 },
 "nbformat": 4,
 "nbformat_minor": 2
}
