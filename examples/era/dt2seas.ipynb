{
 "cells": [
  {
   "cell_type": "code",
   "execution_count": 1,
   "metadata": {
    "collapsed": false
   },
   "outputs": [],
   "source": [
    "from ahh import exp, era\n",
    "import pandas as pd"
   ]
  },
  {
   "cell_type": "code",
   "execution_count": 2,
   "metadata": {
    "collapsed": false
   },
   "outputs": [
    {
     "data": {
      "text/plain": [
       "DatetimeIndex(['2016-01-01', '2016-02-01', '2016-03-01', '2016-04-01',\n",
       "               '2016-05-01', '2016-06-01', '2016-07-01', '2016-08-01',\n",
       "               '2016-09-01', '2016-10-01', '2016-11-01', '2016-12-01'],\n",
       "              dtype='datetime64[ns]', freq='MS')"
      ]
     },
     "execution_count": 2,
     "metadata": {},
     "output_type": "execute_result"
    }
   ],
   "source": [
    "dt_arr = pd.date_range('2016-01-01', '2016-12-31', freq='MS')\n",
    "dt_arr"
   ]
  },
  {
   "cell_type": "code",
   "execution_count": 3,
   "metadata": {
    "collapsed": false
   },
   "outputs": [
    {
     "data": {
      "text/plain": [
       "[(Timestamp('2016-01-01 00:00:00', freq='MS'), 'DJF'),\n",
       " (Timestamp('2016-02-01 00:00:00', freq='MS'), 'DJF'),\n",
       " (Timestamp('2016-03-01 00:00:00', freq='MS'), 'MAM'),\n",
       " (Timestamp('2016-04-01 00:00:00', freq='MS'), 'MAM'),\n",
       " (Timestamp('2016-05-01 00:00:00', freq='MS'), 'MAM'),\n",
       " (Timestamp('2016-06-01 00:00:00', freq='MS'), 'JJA'),\n",
       " (Timestamp('2016-07-01 00:00:00', freq='MS'), 'JJA'),\n",
       " (Timestamp('2016-08-01 00:00:00', freq='MS'), 'JJA'),\n",
       " (Timestamp('2016-09-01 00:00:00', freq='MS'), 'SON'),\n",
       " (Timestamp('2016-10-01 00:00:00', freq='MS'), 'SON'),\n",
       " (Timestamp('2016-11-01 00:00:00', freq='MS'), 'SON'),\n",
       " (Timestamp('2016-12-01 00:00:00', freq='MS'), 'DJF')]"
      ]
     },
     "execution_count": 3,
     "metadata": {},
     "output_type": "execute_result"
    }
   ],
   "source": [
    "list(zip(dt_arr, era.dt2seas(dt_arr))) # convert a datetime array to either DJF, MAM, JJA, and SON"
   ]
  },
  {
   "cell_type": "code",
   "execution_count": 4,
   "metadata": {
    "collapsed": false
   },
   "outputs": [
    {
     "data": {
      "text/plain": [
       "[(Timestamp('2016-01-01 00:00:00', freq='MS'), 'NDJ'),\n",
       " (Timestamp('2016-02-01 00:00:00', freq='MS'), 'DJF'),\n",
       " (Timestamp('2016-03-01 00:00:00', freq='MS'), 'JFM'),\n",
       " (Timestamp('2016-04-01 00:00:00', freq='MS'), 'FMA'),\n",
       " (Timestamp('2016-05-01 00:00:00', freq='MS'), 'MAM'),\n",
       " (Timestamp('2016-06-01 00:00:00', freq='MS'), 'AMJ'),\n",
       " (Timestamp('2016-07-01 00:00:00', freq='MS'), 'MJJ'),\n",
       " (Timestamp('2016-08-01 00:00:00', freq='MS'), 'JJA'),\n",
       " (Timestamp('2016-09-01 00:00:00', freq='MS'), 'JAS'),\n",
       " (Timestamp('2016-10-01 00:00:00', freq='MS'), 'ASO'),\n",
       " (Timestamp('2016-11-01 00:00:00', freq='MS'), 'SON'),\n",
       " (Timestamp('2016-12-01 00:00:00', freq='MS'), 'OND')]"
      ]
     },
     "execution_count": 4,
     "metadata": {},
     "output_type": "execute_result"
    }
   ],
   "source": [
    "list(zip(dt_arr, era.dt2seas(dt_arr, target='end')\n",
    "         )) # can also convert to rolling seasons, ending at that month"
   ]
  },
  {
   "cell_type": "code",
   "execution_count": 5,
   "metadata": {
    "collapsed": false
   },
   "outputs": [
    {
     "data": {
      "text/plain": [
       "[(Timestamp('2016-01-01 00:00:00', freq='MS'), 'JFM'),\n",
       " (Timestamp('2016-02-01 00:00:00', freq='MS'), 'FMA'),\n",
       " (Timestamp('2016-03-01 00:00:00', freq='MS'), 'MAM'),\n",
       " (Timestamp('2016-04-01 00:00:00', freq='MS'), 'AMJ'),\n",
       " (Timestamp('2016-05-01 00:00:00', freq='MS'), 'MJJ'),\n",
       " (Timestamp('2016-06-01 00:00:00', freq='MS'), 'JJA'),\n",
       " (Timestamp('2016-07-01 00:00:00', freq='MS'), 'JAS'),\n",
       " (Timestamp('2016-08-01 00:00:00', freq='MS'), 'ASO'),\n",
       " (Timestamp('2016-09-01 00:00:00', freq='MS'), 'SON'),\n",
       " (Timestamp('2016-10-01 00:00:00', freq='MS'), 'OND'),\n",
       " (Timestamp('2016-11-01 00:00:00', freq='MS'), 'NDJ'),\n",
       " (Timestamp('2016-12-01 00:00:00', freq='MS'), 'DJF')]"
      ]
     },
     "execution_count": 5,
     "metadata": {},
     "output_type": "execute_result"
    }
   ],
   "source": [
    "list(zip(dt_arr, era.dt2seas(dt_arr, target='begin')\n",
    "         )) # can also convert to rolling seasons, beginning at that month"
   ]
  },
  {
   "cell_type": "code",
   "execution_count": null,
   "metadata": {
    "collapsed": true
   },
   "outputs": [],
   "source": []
  }
 ],
 "metadata": {
  "kernelspec": {
   "display_name": "Python 3",
   "language": "python",
   "name": "python3"
  },
  "language_info": {
   "codemirror_mode": {
    "name": "ipython",
    "version": 3
   },
   "file_extension": ".py",
   "mimetype": "text/x-python",
   "name": "python",
   "nbconvert_exporter": "python",
   "pygments_lexer": "ipython3",
   "version": "3.5.3"
  }
 },
 "nbformat": 4,
 "nbformat_minor": 2
}
