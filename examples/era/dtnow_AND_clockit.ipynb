{
 "cells": [
  {
   "cell_type": "code",
   "execution_count": 1,
   "metadata": {
    "collapsed": true
   },
   "outputs": [],
   "source": [
    "from ahh import era, ext"
   ]
  },
  {
   "cell_type": "code",
   "execution_count": 2,
   "metadata": {
    "collapsed": false
   },
   "outputs": [
    {
     "data": {
      "text/plain": [
       "datetime.datetime(2017, 11, 10, 3, 9, 14, 517639)"
      ]
     },
     "execution_count": 2,
     "metadata": {},
     "output_type": "execute_result"
    }
   ],
   "source": [
    "era.dtnow() # gets the current UTC datetime"
   ]
  },
  {
   "cell_type": "code",
   "execution_count": 3,
   "metadata": {
    "collapsed": false
   },
   "outputs": [
    {
     "name": "stdout",
     "output_type": "stream",
     "text": [
      "\n",
      "0 Days, 0 Hours, 0 Minutes, 3 Seconds Elapsed\n",
      "\n"
     ]
    }
   ],
   "source": [
    "# useful for timing\n",
    "s = era.dtnow()\n",
    "for i in range(2): # repeat 2 times\n",
    "    ext.sleep(1.5) # wait 1.5 seconds\n",
    "era.clockit(s)"
   ]
  },
  {
   "cell_type": "code",
   "execution_count": 4,
   "metadata": {
    "collapsed": false
   },
   "outputs": [
    {
     "name": "stdout",
     "output_type": "stream",
     "text": [
      "Two Seconds Cell\n",
      "0 Days, 0 Hours, 0 Minutes, 2 Seconds Elapsed\n",
      "\n"
     ]
    }
   ],
   "source": [
    "s = era.dtnow()\n",
    "ext.sleep(2) # wait 2 seconds\n",
    "era.clockit(s, n='Two Seconds Cell') # can label"
   ]
  },
  {
   "cell_type": "code",
   "execution_count": 5,
   "metadata": {
    "collapsed": false
   },
   "outputs": [],
   "source": [
    "s = era.dtnow()\n",
    "ext.sleep(4) # wait 4 seconds\n",
    "era.clockit(s, save='clockit.txt', show=False) # can turn off display and save"
   ]
  },
  {
   "cell_type": "code",
   "execution_count": 6,
   "metadata": {
    "collapsed": false
   },
   "outputs": [
    {
     "name": "stdout",
     "output_type": "stream",
     "text": [
      "0 Days, 0 Hours, 0 Minutes, 4 Seconds Elapsed\n",
      "0 Days, 0 Hours, 0 Minutes, 4 Seconds Elapsed\n",
      "0 Days, 0 Hours, 0 Minutes, 4 Seconds Elapsed\n",
      "\n"
     ]
    }
   ],
   "source": [
    "with open('clockit.txt', 'r') as f:\n",
    "    lines = f.read().split('\\n')\n",
    "    for line in lines:\n",
    "        print(line) # proof"
   ]
  },
  {
   "cell_type": "code",
   "execution_count": 7,
   "metadata": {
    "collapsed": false
   },
   "outputs": [
    {
     "name": "stdout",
     "output_type": "stream",
     "text": [
      "2\n"
     ]
    }
   ],
   "source": [
    "s = era.dtnow()\n",
    "ext.sleep(2) # wait 2 seconds\n",
    "dt_taken = era.clockit(s, show=False, return_td=True) # can return datetime.timedelta taken\n",
    "print(dt_taken.seconds)"
   ]
  },
  {
   "cell_type": "code",
   "execution_count": null,
   "metadata": {
    "collapsed": true
   },
   "outputs": [],
   "source": []
  }
 ],
 "metadata": {
  "kernelspec": {
   "display_name": "Python 3",
   "language": "python",
   "name": "python3"
  },
  "language_info": {
   "codemirror_mode": {
    "name": "ipython",
    "version": 3
   },
   "file_extension": ".py",
   "mimetype": "text/x-python",
   "name": "python",
   "nbconvert_exporter": "python",
   "pygments_lexer": "ipython3",
   "version": "3.5.3"
  }
 },
 "nbformat": 4,
 "nbformat_minor": 2
}
