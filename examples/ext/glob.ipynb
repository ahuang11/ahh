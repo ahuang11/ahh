{
 "cells": [
  {
   "cell_type": "code",
   "execution_count": 1,
   "metadata": {
    "collapsed": false
   },
   "outputs": [],
   "source": [
    "from ahh import ext, pre"
   ]
  },
  {
   "cell_type": "code",
   "execution_count": 2,
   "metadata": {
    "collapsed": false
   },
   "outputs": [
    {
     "data": {
      "text/plain": [
       "'/mnt/c/Users/Solactus/Google Drive/Bash/ahh/ahh/data/*1948.nc'"
      ]
     },
     "execution_count": 2,
     "metadata": {},
     "output_type": "execute_result"
    }
   ],
   "source": [
    "glob_str = pre.join_cwd('data/*1948.nc') # create a wildcard string\n",
    "glob_str"
   ]
  },
  {
   "cell_type": "code",
   "execution_count": 3,
   "metadata": {
    "collapsed": false
   },
   "outputs": [
    {
     "data": {
      "text/plain": [
       "['/mnt/c/Users/Solactus/Google Drive/Bash/ahh/ahh/data/air.sig995.1948.nc',\n",
       " '/mnt/c/Users/Solactus/Google Drive/Bash/ahh/ahh/data/rhum.sig995.1948.nc']"
      ]
     },
     "execution_count": 3,
     "metadata": {},
     "output_type": "execute_result"
    }
   ],
   "source": [
    "ext.glob(glob_str) # basic usage"
   ]
  },
  {
   "cell_type": "code",
   "execution_count": 4,
   "metadata": {
    "collapsed": false
   },
   "outputs": [
    {
     "data": {
      "text/plain": [
       "['/mnt/c/Users/Solactus/Google Drive/Bash/ahh/ahh/data/air.sig995.1948.nc',\n",
       " '/mnt/c/Users/Solactus/Google Drive/Bash/ahh/ahh/data/rhum.sig995.1948.nc']"
      ]
     },
     "execution_count": 4,
     "metadata": {},
     "output_type": "execute_result"
    }
   ],
   "source": [
    "ext.glob(glob_str, 2) # validate expected length"
   ]
  },
  {
   "cell_type": "code",
   "execution_count": 5,
   "metadata": {
    "collapsed": false
   },
   "outputs": [
    {
     "name": "stdout",
     "output_type": "stream",
     "text": [
      "Expected 4 files from /mnt/c/Users/Solactus/Google Drive/Bash/ahh/ahh/data/*1948.nc, but got 2 files!\n"
     ]
    },
    {
     "data": {
      "text/plain": [
       "['/mnt/c/Users/Solactus/Google Drive/Bash/ahh/ahh/data/air.sig995.1948.nc',\n",
       " '/mnt/c/Users/Solactus/Google Drive/Bash/ahh/ahh/data/rhum.sig995.1948.nc']"
      ]
     },
     "execution_count": 5,
     "metadata": {},
     "output_type": "execute_result"
    }
   ],
   "source": [
    "ext.glob(glob_str, 4) # warns you if doesn't match"
   ]
  },
  {
   "cell_type": "code",
   "execution_count": 6,
   "metadata": {
    "collapsed": false
   },
   "outputs": [
    {
     "ename": "MismatchGlob",
     "evalue": "Expected 4 files from /mnt/c/Users/Solactus/Google Drive/Bash/ahh/ahh/data/*1948.nc, but got 2 files!",
     "output_type": "error",
     "traceback": [
      "\u001b[0;31m---------------------------------------------------------------------------\u001b[0m",
      "\u001b[0;31mMismatchGlob\u001b[0m                              Traceback (most recent call last)",
      "\u001b[0;32m<ipython-input-6-9226c1be1eff>\u001b[0m in \u001b[0;36m<module>\u001b[0;34m()\u001b[0m\n\u001b[0;32m----> 1\u001b[0;31m \u001b[0mext\u001b[0m\u001b[0;34m.\u001b[0m\u001b[0mglob\u001b[0m\u001b[0;34m(\u001b[0m\u001b[0mglob_str\u001b[0m\u001b[0;34m,\u001b[0m \u001b[0;36m4\u001b[0m\u001b[0;34m,\u001b[0m \u001b[0mmismatch\u001b[0m\u001b[0;34m=\u001b[0m\u001b[0;34m'raise'\u001b[0m\u001b[0;34m)\u001b[0m \u001b[0;31m# can also raise an error with mismatches\u001b[0m\u001b[0;34m\u001b[0m\u001b[0m\n\u001b[0m",
      "\u001b[0;32m/mnt/c/Users/Solactus/Google Drive/Bash/ahh/ahh/ext.py\u001b[0m in \u001b[0;36mglob\u001b[0;34m(glob_str, nfiles, mismatch)\u001b[0m\n\u001b[1;32m    779\u001b[0m                 raise MismatchGlob(mismatch_fmt.format(nfiles,\n\u001b[1;32m    780\u001b[0m                                                        \u001b[0mglob_str\u001b[0m\u001b[0;34m,\u001b[0m\u001b[0;34m\u001b[0m\u001b[0m\n\u001b[0;32m--> 781\u001b[0;31m                                                        glob_len)\n\u001b[0m\u001b[1;32m    782\u001b[0m                                    )\n\u001b[1;32m    783\u001b[0m             \u001b[0;32melse\u001b[0m\u001b[0;34m:\u001b[0m\u001b[0;34m\u001b[0m\u001b[0m\n",
      "\u001b[0;31mMismatchGlob\u001b[0m: Expected 4 files from /mnt/c/Users/Solactus/Google Drive/Bash/ahh/ahh/data/*1948.nc, but got 2 files!"
     ]
    }
   ],
   "source": [
    "ext.glob(glob_str, 4, mismatch='raise') # can also raise an error with mismatches"
   ]
  },
  {
   "cell_type": "code",
   "execution_count": 7,
   "metadata": {
    "collapsed": false
   },
   "outputs": [
    {
     "ename": "EmptyGlob",
     "evalue": "No files match /mnt/c/Users/Solactus/Google Drive/Bash/ahh/ahh/data/*1947.nc!",
     "output_type": "error",
     "traceback": [
      "\u001b[0;31m---------------------------------------------------------------------------\u001b[0m",
      "\u001b[0;31mEmptyGlob\u001b[0m                                 Traceback (most recent call last)",
      "\u001b[0;32m<ipython-input-7-257751265190>\u001b[0m in \u001b[0;36m<module>\u001b[0;34m()\u001b[0m\n\u001b[1;32m      1\u001b[0m \u001b[0mglob_str\u001b[0m \u001b[0;34m=\u001b[0m \u001b[0mpre\u001b[0m\u001b[0;34m.\u001b[0m\u001b[0mjoin_cwd\u001b[0m\u001b[0;34m(\u001b[0m\u001b[0;34m'data/*1947.nc'\u001b[0m\u001b[0;34m)\u001b[0m \u001b[0;31m# create a wildcard string with typo\u001b[0m\u001b[0;34m\u001b[0m\u001b[0m\n\u001b[0;32m----> 2\u001b[0;31m \u001b[0mext\u001b[0m\u001b[0;34m.\u001b[0m\u001b[0mglob\u001b[0m\u001b[0;34m(\u001b[0m\u001b[0mglob_str\u001b[0m\u001b[0;34m,\u001b[0m \u001b[0;36m4\u001b[0m\u001b[0;34m)\u001b[0m \u001b[0;31m# raises error if the glob length is 0\u001b[0m\u001b[0;34m\u001b[0m\u001b[0m\n\u001b[0m",
      "\u001b[0;32m/mnt/c/Users/Solactus/Google Drive/Bash/ahh/ahh/ext.py\u001b[0m in \u001b[0;36mglob\u001b[0;34m(glob_str, nfiles, mismatch)\u001b[0m\n\u001b[1;32m    770\u001b[0m     \u001b[0mglob_len\u001b[0m \u001b[0;34m=\u001b[0m \u001b[0mlen\u001b[0m\u001b[0;34m(\u001b[0m\u001b[0mglob_list\u001b[0m\u001b[0;34m)\u001b[0m\u001b[0;34m\u001b[0m\u001b[0m\n\u001b[1;32m    771\u001b[0m     \u001b[0;32mif\u001b[0m \u001b[0mglob_len\u001b[0m \u001b[0;34m==\u001b[0m \u001b[0;36m0\u001b[0m\u001b[0;34m:\u001b[0m\u001b[0;34m\u001b[0m\u001b[0m\n\u001b[0;32m--> 772\u001b[0;31m         \u001b[0;32mraise\u001b[0m \u001b[0mEmptyGlob\u001b[0m\u001b[0;34m(\u001b[0m\u001b[0;34m'No files match {0}!'\u001b[0m\u001b[0;34m.\u001b[0m\u001b[0mformat\u001b[0m\u001b[0;34m(\u001b[0m\u001b[0mglob_str\u001b[0m\u001b[0;34m)\u001b[0m\u001b[0;34m)\u001b[0m\u001b[0;34m\u001b[0m\u001b[0m\n\u001b[0m\u001b[1;32m    773\u001b[0m \u001b[0;34m\u001b[0m\u001b[0m\n\u001b[1;32m    774\u001b[0m     \u001b[0mmismatch_fmt\u001b[0m \u001b[0;34m=\u001b[0m \u001b[0;34m'Expected {0} files from {1}, but got {2} files!'\u001b[0m\u001b[0;34m\u001b[0m\u001b[0m\n",
      "\u001b[0;31mEmptyGlob\u001b[0m: No files match /mnt/c/Users/Solactus/Google Drive/Bash/ahh/ahh/data/*1947.nc!"
     ]
    }
   ],
   "source": [
    "glob_str = pre.join_cwd('data/*1947.nc') # create a wildcard string with typo\n",
    "ext.glob(glob_str, 4) # raises error if the glob length is 0"
   ]
  },
  {
   "cell_type": "code",
   "execution_count": null,
   "metadata": {
    "collapsed": true
   },
   "outputs": [],
   "source": []
  },
  {
   "cell_type": "code",
   "execution_count": null,
   "metadata": {
    "collapsed": true
   },
   "outputs": [],
   "source": []
  }
 ],
 "metadata": {
  "kernelspec": {
   "display_name": "Python 3",
   "language": "python",
   "name": "python3"
  },
  "language_info": {
   "codemirror_mode": {
    "name": "ipython",
    "version": 3
   },
   "file_extension": ".py",
   "mimetype": "text/x-python",
   "name": "python",
   "nbconvert_exporter": "python",
   "pygments_lexer": "ipython3",
   "version": "3.5.3"
  }
 },
 "nbformat": 4,
 "nbformat_minor": 2
}
