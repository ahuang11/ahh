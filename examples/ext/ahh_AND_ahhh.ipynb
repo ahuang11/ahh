{
 "cells": [
  {
   "cell_type": "code",
   "execution_count": 1,
   "metadata": {
    "collapsed": false
   },
   "outputs": [],
   "source": [
    "from ahh import exp, ext\n",
    "import numpy as np"
   ]
  },
  {
   "cell_type": "code",
   "execution_count": 2,
   "metadata": {
    "collapsed": false
   },
   "outputs": [
    {
     "name": "stdout",
     "output_type": "stream",
     "text": [
      "[1 2 3 4 5]\n",
      "\n",
      "            Name: ahh\n",
      "          Length: 5\n",
      "      Dimensions: (5,)\n",
      "   Unnested Type: <class 'numpy.int64'>\n",
      "Overarching Type: <class 'numpy.ndarray'>\n",
      "Minimum, Maximum: 1.000, 5.000\n",
      " Average, Median: 3.000, 3.000\n",
      "\n",
      "Snippet of values:\n",
      "[1 2 3 4 5]\n",
      "\n"
     ]
    }
   ],
   "source": [
    "arr_1d = exp.arr_1d(5) # simple increasing incrementally 5 values 1-dimensional array\n",
    "print(arr_1d) # reference\n",
    "ext.ahh(arr_1d); # most simple usage, the semi-colon is just to suppress unnecessary output in Jupyter notebooks"
   ]
  },
  {
   "cell_type": "code",
   "execution_count": 3,
   "metadata": {
    "collapsed": false
   },
   "outputs": [
    {
     "name": "stdout",
     "output_type": "stream",
     "text": [
      "[1 2 3 4 5]\n",
      "\n",
      "            Name: ahh\n",
      "          Length: 5\n",
      "      Dimensions: (5,)\n",
      "   Unnested Type: <class 'numpy.int64'>\n",
      "Overarching Type: <class 'numpy.ndarray'>\n",
      "Minimum, Maximum: 1.000, 5.000\n",
      " Average, Median: 3.000, 3.000\n",
      "\n"
     ]
    }
   ],
   "source": [
    "arr_1d = exp.arr_1d(5) # simple increasing incrementally 5 values 1-dimensional array\n",
    "print(arr_1d) # reference\n",
    "ext.ahh(arr_1d, quiet=True); # only print summary without the edge snippet"
   ]
  },
  {
   "cell_type": "code",
   "execution_count": 4,
   "metadata": {
    "collapsed": false
   },
   "outputs": [
    {
     "name": "stdout",
     "output_type": "stream",
     "text": [
      "\n",
      "            Name: x\n",
      "          Length: 15\n",
      "      Dimensions: (15,)\n",
      "   Unnested Type: <class 'numpy.int64'>\n",
      "Overarching Type: <class 'numpy.ndarray'>\n",
      "Minimum, Maximum: 1.000, 15.000\n",
      " Average, Median: 8.000, 8.000\n",
      "\n",
      "Snippet of values:\n",
      "[ 1  2  3  4  5  6  7  8  9 10 11 12 13 14 15]\n",
      "\n"
     ]
    },
    {
     "data": {
      "text/plain": [
       "True"
      ]
     },
     "execution_count": 4,
     "metadata": {},
     "output_type": "execute_result"
    },
    {
     "name": "stdout",
     "output_type": "stream",
     "text": [
      "\n",
      "            Name: x\n",
      "          Length: 15\n",
      "      Dimensions: (15,)\n",
      "   Unnested Type: <class 'numpy.int64'>\n",
      "Overarching Type: <class 'numpy.ndarray'>\n",
      "Minimum, Maximum: 1.000, 15.000\n",
      " Average, Median: 8.000, 8.000\n",
      "\n",
      "Snippet of values:\n",
      "[ 1  2  3  4  5  6  7  8  9 10 11 12 13 14 15]\n",
      "\n"
     ]
    },
    {
     "data": {
      "text/plain": [
       "True"
      ]
     },
     "execution_count": 4,
     "metadata": {},
     "output_type": "execute_result"
    }
   ],
   "source": [
    "x = exp.arr_1d() # x array\n",
    "ext.ahh(x, n='x') # name the output, method one\n",
    "ext.ahh(x=x) # method two"
   ]
  },
  {
   "cell_type": "code",
   "execution_count": 18,
   "metadata": {
    "collapsed": false
   },
   "outputs": [
    {
     "name": "stdout",
     "output_type": "stream",
     "text": [
      "\n",
      "            Name: y\n",
      "          Length: 15\n",
      "      Dimensions: (15,)\n",
      "   Unnested Type: <class 'numpy.float64'>\n",
      "Overarching Type: <class 'numpy.ndarray'>\n",
      "Minimum, Maximum: 1.000, 12.281\n",
      " Average, Median: 4.460, 3.350\n",
      "\n",
      "Snippet of values:\n",
      "[  1.     1.65   2.95   1.25   3.05   4.23   6.1    5.13   1.73   3.35\n",
      "   8.32   4.43  12.28   1.82   9.61]\n",
      "\n",
      "\n",
      "            Name: z\n",
      "          Length: 15\n",
      "      Dimensions: (15,)\n",
      "   Unnested Type: <class 'numpy.float64'>\n",
      "Overarching Type: <class 'numpy.ndarray'>\n",
      "Minimum, Maximum: -9.132, 1.000\n",
      " Average, Median: -2.105, -1.326\n",
      "\n",
      "Snippet of values:\n",
      "[ 1.    0.23 -0.87 -0.79 -2.86  0.09  0.98 -0.89 -3.   -1.98 -3.88 -3.48\n",
      " -9.13 -1.33 -5.66]\n",
      "\n",
      "\n",
      "            Name: x\n",
      "          Length: 15\n",
      "      Dimensions: (15,)\n",
      "   Unnested Type: <class 'numpy.int64'>\n",
      "Overarching Type: <class 'numpy.ndarray'>\n",
      "Minimum, Maximum: 1.000, 15.000\n",
      " Average, Median: 8.000, 8.000\n",
      "\n",
      "Snippet of values:\n",
      "[ 1  2  3  4  5  6  7  8  9 10 11 12 13 14 15]\n",
      "\n"
     ]
    },
    {
     "data": {
      "text/plain": [
       "True"
      ]
     },
     "execution_count": 18,
     "metadata": {},
     "output_type": "execute_result"
    }
   ],
   "source": [
    "x = exp.arr_1d() # x array\n",
    "y = exp.arr_1d(y=True) # y array\n",
    "z = exp.arr_1d(y=True, neg=True) # y array\n",
    "ext.ahh(x=x, y=y, z=z) # explore multiple arrays"
   ]
  },
  {
   "cell_type": "code",
   "execution_count": 6,
   "metadata": {
    "collapsed": false
   },
   "outputs": [
    {
     "name": "stdout",
     "output_type": "stream",
     "text": [
      "\n",
      "            Name: ahh\n",
      "          Length: 15\n",
      "      Dimensions: (15,)\n",
      "   Unnested Type: <class 'numpy.int64'>\n",
      "Overarching Type: <class 'numpy.ndarray'>\n",
      "Minimum, Maximum: 1.000, 15.000\n",
      " Average, Median: 8.000, 8.000\n",
      "\n",
      "Snippet of values:\n",
      "[ 1  2  3  4  5  6  7  8  9 10 11 12 13 14 15]\n",
      "\n",
      "\n",
      "            Name: ahh\n",
      "          Length: 15\n",
      "      Dimensions: (15,)\n",
      "   Unnested Type: <class 'numpy.float64'>\n",
      "Overarching Type: <class 'numpy.ndarray'>\n",
      "Minimum, Maximum: 1.000, 12.027\n",
      " Average, Median: 5.390, 5.304\n",
      "\n",
      "Snippet of values:\n",
      "[  1.     1.45   2.53   1.84   2.1    3.49   6.47   5.3    4.68   8.85\n",
      "  10.65   8.47   6.39  12.03   5.61]\n",
      "\n",
      "\n",
      "            Name: ahh\n",
      "          Length: 15\n",
      "      Dimensions: (15,)\n",
      "   Unnested Type: <class 'numpy.float64'>\n",
      "Overarching Type: <class 'numpy.ndarray'>\n",
      "Minimum, Maximum: -11.095, 1.000\n",
      " Average, Median: -3.841, -2.469\n",
      "\n",
      "Snippet of values:\n",
      "[  1.     0.35  -0.6    0.74  -1.34  -0.6   -2.47  -2.44  -5.7   -7.27\n",
      "  -4.89  -7.75  -5.14 -10.42 -11.09]\n",
      "\n",
      "\n",
      "            Name: arr_1d\n",
      "          Length: 5\n",
      "      Dimensions: (5,)\n",
      "   Unnested Type: <class 'numpy.int64'>\n",
      "Overarching Type: <class 'numpy.ndarray'>\n",
      "Minimum, Maximum: 1.000, 5.000\n",
      " Average, Median: 3.000, 3.000\n",
      "\n",
      "Snippet of values:\n",
      "[1 2 3 4 5]\n",
      "\n"
     ]
    }
   ],
   "source": [
    "ext.ahhh(x, y, z, arr_1d=arr_1d) # can pass as many variables to ahhh but may not change the settings"
   ]
  },
  {
   "cell_type": "code",
   "execution_count": 7,
   "metadata": {
    "collapsed": false
   },
   "outputs": [
    {
     "name": "stdout",
     "output_type": "stream",
     "text": [
      "\n",
      "            Name: ahh\n",
      "          Length: 10\n",
      "      Dimensions: (10,)\n",
      "   Unnested Type: <class 'numpy.float64'>\n",
      "Overarching Type: <class 'numpy.ndarray'>\n",
      "Minimum, Maximum: 1.000, 5.775\n",
      " Average, Median: 3.238, 3.177\n",
      "\n",
      "Snippet of values:\n",
      "[ 1.    1.3   2.79  2.24  3.56  5.78  4.03  1.34  5.08  5.26]\n",
      "\n"
     ]
    }
   ],
   "source": [
    "arr_1d = exp.arr_1d(10, y=True) # simple 10 values random array\n",
    "stop = False # preparation\n",
    "for i in range(10000): # 10000 iterations\n",
    "    stop = ext.ahh(arr_1d, stop=stop) # stop spamming the screen after first iteration"
   ]
  },
  {
   "cell_type": "code",
   "execution_count": 8,
   "metadata": {
    "collapsed": false
   },
   "outputs": [
    {
     "name": "stdout",
     "output_type": "stream",
     "text": [
      "\n",
      "            Name: ahh\n",
      "          Length: 2771\n",
      "      Dimensions: (2771,)\n",
      "   Unnested Type: <class 'numpy.float64'>\n",
      "Overarching Type: <class 'pandas.core.series.Series'>\n",
      "Minimum, Maximum: 6.100, 61.000\n",
      " Average, Median: 34.618, 32.000\n",
      "\n",
      "Snippet of values:\n",
      "[  nan   nan   nan   nan   nan ...,   nan   nan   nan   nan  60.1]\n",
      "\n"
     ]
    }
   ],
   "source": [
    "arr_df = exp.arr_df() # open a dataframe\n",
    "ext.ahh(arr_df, col='tmpf', ignore='M'); # select column and ignore a string"
   ]
  },
  {
   "cell_type": "code",
   "execution_count": 9,
   "metadata": {
    "collapsed": false
   },
   "outputs": [
    {
     "name": "stdout",
     "output_type": "stream",
     "text": [
      "<xarray.Dataset>\n",
      "Dimensions:  (lat: 73, lon: 144, time: 366)\n",
      "Coordinates:\n",
      "  * lat      (lat) float32 90.0 87.5 85.0 82.5 80.0 77.5 75.0 72.5 70.0 67.5 ...\n",
      "  * lon      (lon) float32 0.0 2.5 5.0 7.5 10.0 12.5 15.0 17.5 20.0 22.5 ...\n",
      "  * time     (time) datetime64[ns] 1948-01-01 1948-01-02 1948-01-03 ...\n",
      "Data variables:\n",
      "    air      (time, lat, lon) float64 238.1 238.1 238.1 238.1 238.1 238.1 ...\n",
      "Attributes:\n",
      "    Conventions:    COARDS\n",
      "    title:          mean daily NMC reanalysis (1948)\n",
      "    description:    Data is from NMC initialized reanalysis\\n(4x/day).  These...\n",
      "    platform:       Model\n",
      "    history:        created 99/05/11 by Hoop (netCDF2.3)\\nConverted to chunke...\n",
      "    References:     http://www.esrl.noaa.gov/psd/data/gridded/data.ncep.reana...\n",
      "    dataset_title:  NCEP-NCAR Reanalysis 1\n",
      "\n",
      "            Name: air\n",
      "          Length: 366\n",
      "      Dimensions: (366, 73, 144)\n",
      "   Unnested Type: <class 'numpy.float64'>\n",
      "Overarching Type: <class 'numpy.ndarray'>\n",
      "Minimum, Maximum: 188.290, 315.300\n",
      " Average, Median: 277.191, 282.670\n",
      "\n",
      "Snippet of values:\n",
      "[ 238.1  238.1  238.1  238.1  238.1 ...,  238.1  238.1  238.1  238.1  238.1]\n",
      "Center lat indice 36.5, lon indice 72.0:\n",
      "[ 278.7   281.27  282.39  283.47  284.85 ...,  286.89  287.14  287.7\n",
      "  287.82  287.52]\n",
      "\n"
     ]
    }
   ],
   "source": [
    "arr_ds = exp.arr_ds() # open a dataset\n",
    "print(arr_ds) # for reference\n",
    "ext.ahh(arr_ds, center=15); # print the 15 values in the center"
   ]
  },
  {
   "cell_type": "code",
   "execution_count": 10,
   "metadata": {
    "collapsed": false
   },
   "outputs": [
    {
     "name": "stdout",
     "output_type": "stream",
     "text": [
      "[ 1.    1.98  1.35  3.61  3.45  3.6   2.2   3.48  8.62  1.06]\n",
      "\n",
      "            Name: ahh\n",
      "          Length: 10\n",
      "      Dimensions: (10,)\n",
      "   Unnested Type: <class 'numpy.float64'>\n",
      "Overarching Type: <class 'numpy.ndarray'>\n",
      "Minimum, Maximum: 1.000, 8.616\n",
      " Average, Median: 3.033, 2.822\n",
      "\n",
      "Snippet of values:\n",
      "[ 1.       1.97626  1.34846  3.61159  3.44594  3.6012   2.19738  3.47759\n",
      "  8.61615  1.05648]\n",
      "\n"
     ]
    }
   ],
   "source": [
    "arr_1d = exp.arr_1d(10, y=True) # simple 10 values random array\n",
    "print(arr_1d) # for reference\n",
    "ext.ahh(arr_1d, precision=5); # print more decimal values"
   ]
  },
  {
   "cell_type": "code",
   "execution_count": 11,
   "metadata": {
    "collapsed": false
   },
   "outputs": [
    {
     "name": "stdout",
     "output_type": "stream",
     "text": [
      "[  1.        1.52572   1.75287   2.30355   4.02141 ...,  14.71216  13.30477\n",
      "  61.982    34.93621  45.80756]\n",
      "\n",
      "            Name: ahh\n",
      "          Length: 100\n",
      "      Dimensions: (100,)\n",
      "   Unnested Type: <class 'numpy.float64'>\n",
      "Overarching Type: <class 'numpy.ndarray'>\n",
      "Minimum, Maximum: 1.000, 89.713\n",
      " Average, Median: 27.596, 19.703\n",
      "\n",
      "Snippet of values:\n",
      "[  1.     1.53   1.75   2.3    4.02   1.66   4.33   7.27   1.01   6.99 ...,\n",
      "  88.25  15.3   55.88  88.33  89.71  14.71  13.3   61.98  34.94  45.81]\n",
      "\n"
     ]
    }
   ],
   "source": [
    "arr_1d = exp.arr_1d(100, y=True) # 100 values (long) array\n",
    "print(arr_1d) # for reference\n",
    "ext.ahh(arr_1d, edgeitems=10); # print the first and last 10 values of the array"
   ]
  },
  {
   "cell_type": "code",
   "execution_count": 12,
   "metadata": {
    "collapsed": false
   },
   "outputs": [
    {
     "name": "stdout",
     "output_type": "stream",
     "text": [
      "0 1.0\n",
      "1 1.03143862844\n",
      "2 1.78128833923\n",
      "3 1.68108897208\n",
      "4 2.07437133737\n",
      "5 2.51959340795\n",
      "6 2.20825139589\n",
      "7 6.47459304479\n",
      "8 4.57937378773\n",
      "9 3.83544716639\n",
      "10 6.42836904826\n",
      "11 5.74029407899\n",
      "12 3.47706773996\n",
      "13 7.73472957931\n",
      "14 1.53165827577\n",
      "15 4.82079596636\n",
      "16 4.24770920694\n",
      "17 8.03632754793\n",
      "18 7.91525035828\n",
      "19 8.50776652871\n",
      "\n",
      "            Name: ahh\n",
      "          Length: 20\n",
      "      Dimensions: (20,)\n",
      "   Unnested Type: <class 'numpy.float64'>\n",
      "Overarching Type: <class 'numpy.ndarray'>\n",
      "Minimum, Maximum: 1.000, 8.508\n",
      " Average, Median: 4.281, 4.042\n",
      "\n",
      "Center indice 10.0:\n",
      "[ 2.52  2.21  6.47  4.58  3.84  6.43  5.74  3.48  7.73  1.53]\n",
      "\n"
     ]
    }
   ],
   "source": [
    "arr_1d = exp.arr_1d(20, y=True) # 20 values (long) array\n",
    "for i, val in enumerate(arr_1d):\n",
    "    print(i, val)# for reference, print index and value\n",
    "ext.ahh(arr_1d, center=5, snippet=False); # print the center of array, but not the edge"
   ]
  },
  {
   "cell_type": "code",
   "execution_count": 13,
   "metadata": {
    "collapsed": false
   },
   "outputs": [
    {
     "name": "stdout",
     "output_type": "stream",
     "text": [
      "\n",
      "            Name: ahh\n",
      "          Length: 5\n",
      "      Dimensions: (5,)\n",
      "   Unnested Type: <class 'numpy.float64'>\n",
      "Overarching Type: <class 'numpy.ndarray'>\n",
      "Minimum, Maximum: 99999.000, 381306.316\n",
      " Average, Median: 229265.777, 213734.331\n",
      "\n",
      "Snippet of values:\n",
      "[  99999.    195309.02  255980.22  381306.32  213734.33]\n",
      "\n"
     ]
    }
   ],
   "source": [
    "arr_1d = exp.arr_1d(5, y=True) * 99999 # really large values greater than 99999.\n",
    "ext.ahh(arr_1d, fillval_high=9999999); # make min and max show a value"
   ]
  },
  {
   "cell_type": "code",
   "execution_count": 21,
   "metadata": {
    "collapsed": false
   },
   "outputs": [
    {
     "name": "stdout",
     "output_type": "stream",
     "text": [
      "\n",
      "            Name: ds\n",
      "          Length: 366\n",
      "      Dimensions: (366, 73, 144)\n",
      "   Unnested Type: <class 'numpy.float64'>\n",
      "Overarching Type: <class 'numpy.ndarray'>\n",
      "Minimum, Maximum: 188.290, 315.300\n",
      " Average, Median: 277.191, 282.670\n",
      "\n",
      "Snippet of values:\n",
      "[ 238.1  238.1  238.1  238.1  238.1 ...,  238.1  238.1  238.1  238.1  238.1]\n",
      "\n",
      "\n",
      "            Name: arr\n",
      "          Length: 15\n",
      "      Dimensions: (15,)\n",
      "   Unnested Type: <class 'numpy.int64'>\n",
      "Overarching Type: <class 'numpy.ndarray'>\n",
      "Minimum, Maximum: 1.000, 15.000\n",
      " Average, Median: 8.000, 8.000\n",
      "\n",
      "Snippet of values:\n",
      "[ 1  2  3  4  5  6  7  8  9 10 11 12 13 14 15]\n",
      "\n"
     ]
    },
    {
     "data": {
      "text/plain": [
       "True"
      ]
     },
     "execution_count": 21,
     "metadata": {},
     "output_type": "execute_result"
    }
   ],
   "source": [
    "ext.ahh(ds=arr_ds, arr=x) # name=data"
   ]
  },
  {
   "cell_type": "code",
   "execution_count": null,
   "metadata": {
    "collapsed": true
   },
   "outputs": [],
   "source": []
  }
 ],
 "metadata": {
  "kernelspec": {
   "display_name": "Python 3",
   "language": "python",
   "name": "python3"
  },
  "language_info": {
   "codemirror_mode": {
    "name": "ipython",
    "version": 3
   },
   "file_extension": ".py",
   "mimetype": "text/x-python",
   "name": "python",
   "nbconvert_exporter": "python",
   "pygments_lexer": "ipython3",
   "version": "3.5.3"
  }
 },
 "nbformat": 4,
 "nbformat_minor": 2
}
