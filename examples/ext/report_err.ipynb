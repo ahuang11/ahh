{
 "cells": [
  {
   "cell_type": "code",
   "execution_count": 1,
   "metadata": {
    "collapsed": true
   },
   "outputs": [],
   "source": [
    "from ahh import ext"
   ]
  },
  {
   "cell_type": "code",
   "execution_count": 2,
   "metadata": {
    "collapsed": true
   },
   "outputs": [],
   "source": [
    "def zero_division_fn(): # a function\n",
    "    return 5 / 0 # that obviously won't work\n",
    "\n",
    "def name_missing_fn():\n",
    "    return ahh # just to raise an error"
   ]
  },
  {
   "cell_type": "code",
   "execution_count": 3,
   "metadata": {
    "collapsed": false
   },
   "outputs": [
    {
     "name": "stdout",
     "output_type": "stream",
     "text": [
      "division by zero\n"
     ]
    }
   ],
   "source": [
    "try:\n",
    "    zero_division_fn()\n",
    "except Exception as e:\n",
    "    print(e) # very uninformative"
   ]
  },
  {
   "cell_type": "code",
   "execution_count": 4,
   "metadata": {
    "collapsed": false
   },
   "outputs": [
    {
     "name": "stdout",
     "output_type": "stream",
     "text": [
      "Nov 10 03:43Z ZeroDivisionError - division by zero on line 2 in <ipython-input-2-55070358f76e>: \"return 5 / 0 # that obviously won't work\"\n"
     ]
    }
   ],
   "source": [
    "try:\n",
    "    zero_division_fn()\n",
    "except:\n",
    "    ext.report_err() # much more informative"
   ]
  },
  {
   "cell_type": "code",
   "execution_count": 5,
   "metadata": {
    "collapsed": false
   },
   "outputs": [
    {
     "name": "stdout",
     "output_type": "stream",
     "text": [
      "Nov 10 03:43Z NameError - name 'ahh' is not defined on line 5 in <ipython-input-2-55070358f76e>: \"return ahh # just to raise an error\" - Continuing on\n",
      "Continued on\n"
     ]
    }
   ],
   "source": [
    "try:\n",
    "    name_missing_fn()\n",
    "except:\n",
    "    ext.report_err(save='report_err', comment='Continuing on') # can save to a log and append a comment\n",
    "print('Continued on')"
   ]
  },
  {
   "cell_type": "code",
   "execution_count": 6,
   "metadata": {
    "collapsed": true
   },
   "outputs": [],
   "source": [
    "try:\n",
    "    name_missing_fn()\n",
    "except: # just log it without printing to screen\n",
    "    ext.report_err(save='report_err', comment='Continuing on again without showing', show=False)"
   ]
  },
  {
   "cell_type": "code",
   "execution_count": 7,
   "metadata": {
    "collapsed": false
   },
   "outputs": [
    {
     "name": "stdout",
     "output_type": "stream",
     "text": [
      "Jun 22 23:37Z NameError - name 'ahh' is not defined on line 5: \"return ahh\" - Continuing on\n",
      "Jun 22 23:37Z NameError - name 'ahh' is not defined on line 5: \"return ahh\" - Continuing on again without showing\n",
      "Jul 01 16:47Z NameError - name 'ahh' is not defined on line 5 in <ipython-input-2-55070358f76e>: \"return ahh # just to raise an error\" - Continuing on\n",
      "Jul 01 16:47Z NameError - name 'ahh' is not defined on line 5 in <ipython-input-2-55070358f76e>: \"return ahh # just to raise an error\" - Continuing on again without showing\n",
      "Nov 06 02:31Z NameError - name 'ahh' is not defined on line 5 in <ipython-input-2-55070358f76e>: \"return ahh # just to raise an error\" - Continuing on\n",
      "Nov 06 02:31Z NameError - name 'ahh' is not defined on line 5 in <ipython-input-2-55070358f76e>: \"return ahh # just to raise an error\" - Continuing on again without showing\n",
      "Nov 10 03:43Z NameError - name 'ahh' is not defined on line 5 in <ipython-input-2-55070358f76e>: \"return ahh # just to raise an error\" - Continuing on\n",
      "Nov 10 03:43Z NameError - name 'ahh' is not defined on line 5 in <ipython-input-2-55070358f76e>: \"return ahh # just to raise an error\" - Continuing on again without showing\n",
      "\n"
     ]
    }
   ],
   "source": [
    "with open('report_err.txt', 'r') as f:\n",
    "    lines = f.read().split('\\n')\n",
    "    for line in lines:\n",
    "        print(line) # proof"
   ]
  },
  {
   "cell_type": "code",
   "execution_count": null,
   "metadata": {
    "collapsed": true
   },
   "outputs": [],
   "source": []
  }
 ],
 "metadata": {
  "kernelspec": {
   "display_name": "Python 3",
   "language": "python",
   "name": "python3"
  },
  "language_info": {
   "codemirror_mode": {
    "name": "ipython",
    "version": 3
   },
   "file_extension": ".py",
   "mimetype": "text/x-python",
   "name": "python",
   "nbconvert_exporter": "python",
   "pygments_lexer": "ipython3",
   "version": "3.5.3"
  }
 },
 "nbformat": 4,
 "nbformat_minor": 2
}
