{
 "cells": [
  {
   "cell_type": "code",
   "execution_count": 19,
   "metadata": {
    "collapsed": false
   },
   "outputs": [],
   "source": [
    "from ahh import vis, ext, era, pre, sci\n",
    "from PIL import Image\n",
    "from PIL import ImageFont\n",
    "from PIL import ImageDraw\n",
    "import pandas as pd\n",
    "import numpy as np\n",
    "import datetime\n",
    "import exifread\n",
    "import os"
   ]
  },
  {
   "cell_type": "code",
   "execution_count": 20,
   "metadata": {
    "collapsed": false
   },
   "outputs": [],
   "source": [
    "EST_OFFSET = 1 # camera metadata still uses CST\n",
    "GM1_OFFSET = -4 # the camera is 4 minutes faster\n",
    "D7100_OFFSET = +4 # the camera is 4 minutes slower\n",
    "START_DT_STR = '2017-07-08 08:00'\n",
    "END_DT_STR = '2017-07-08 20:30'\n",
    "\n",
    "FONT = ImageFont.truetype(\"data/GOTHIC.TTF\", 100)\n",
    "COLOR = (255, 255, 255, 0)\n",
    "SHADOW_COLOR = (50, 50, 50, 0)\n",
    "\n",
    "PLOT_TXT_FMT = 'Total Floors: {5:.0f}\\nTotal Steps: {3:d}\\nTotal Calories: {6:.0f}\\nTotal Kilometers: {4:0.2f}\\n\\n' \\\n",
    "                   'Steps per Minute Avg: {0:.2f}\\nBeats per Minute Avg: {1:.2f}\\nKilometers per Hour Avg: {2:.2f}'\n",
    "IMG_TXT_FMT = '{hour}:{dt.minute:02d} {ampm} EST {month} {dt.day}, {dt.year}\\n' \\\n",
    "                  '{km:04.2f} km | {mi:04.2f} mi\\n{steps:.0f} steps\\n{bpm:.0f} bpm'\n",
    "\n",
    "XLABEL = 'Time [EST]'\n",
    "    \n",
    "OVERVIEW_TITLE_FMT = 'Overview of July 8, 2017 from {hr1}:{min1} {ampm1} - {hr2}:{min2} {ampm2}'"
   ]
  },
  {
   "cell_type": "code",
   "execution_count": 44,
   "metadata": {
    "collapsed": false
   },
   "outputs": [],
   "source": [
    "def get_dt_from_img(fn):\n",
    "    with open(fn, 'rb') as f:\n",
    "        tags = exifread.process_file(f)\n",
    "        time_mdata = tags['EXIF DateTimeOriginal']\n",
    "        dt = (datetime.datetime.strptime(time_mdata.values, \n",
    "                                         '%Y:%m:%d %H:%M:%S')\n",
    "              + datetime.timedelta(hours=EST_OFFSET))\n",
    "        model = tags['Image Model']\n",
    "        if 'GM1' in str(model):\n",
    "            dt += datetime.timedelta(minutes=GM1_OFFSET)\n",
    "        elif 'D7100' in str(model):\n",
    "            dt += datetime.timedelta(minutes=D7100_OFFSET)\n",
    "    return dt\n",
    "\n",
    "def round_to_nearest_minute(dt):\n",
    "    secs = dt.second\n",
    "    if secs > 30:\n",
    "        dt += datetime.timedelta(minutes=1)\n",
    "    return dt.replace(second=0)\n",
    "\n",
    "def plot_summary(df, base_dir, dts=None):\n",
    "    if dts is not None:\n",
    "        df = df.loc[df.index <= dts[-1] + datetime.timedelta(minutes=15)]\n",
    "        mark = True\n",
    "    elif dts is None:\n",
    "        dts = pd.date_range(START_DT_STR, END_DT_STR, freq='1Min')\n",
    "        mark = False\n",
    "\n",
    "    steps_scale = [2 ** (n / 12.5) + 15 for n in df.steps]\n",
    "    steps_scale = np.clip(np.array(steps_scale), 0, 2000)\n",
    "    steps_avg = df.loc[df.steps > 0, 'steps'].mean()\n",
    "    bpm_avg = df.loc[df.bpm > 0, 'bpm'].mean()\n",
    "    dist_hourly_avg = df.resample('1H').sum()['distance'].mean()\n",
    "    total_steps = df.steps.sum()\n",
    "    total_calories = df.calories.sum()\n",
    "    total_floors = df.floors.sum()\n",
    "    total_beats = df.bpm.sum()\n",
    "    total_distance = df.distance.sum()\n",
    "\n",
    "    title_fmtd = OVERVIEW_TITLE_FMT.format(hr1=dts[0].strftime('%I'),\n",
    "                                           min1=dts[0].strftime('%M'),\n",
    "                                           ampm1=dts[0].strftime('%p'),\n",
    "                                           hr2=dts[-1].strftime('%I'),\n",
    "                                           min2=dts[-1].strftime('%M'),\n",
    "                                           ampm2=dts[-1].strftime('%p')\n",
    "                                          )\n",
    "\n",
    "    ax = vis.plot_scatter(df.index, df['distance_cumsum'], c=df.bpm, s=steps_scale, figsize=(15, 7),\n",
    "                          title=title_fmtd, label='Size Scaled to Steps per Minute', length_scale=False,\n",
    "                          xlabel=XLABEL, ylabel='Total Distance [km]', cbar_label='Heart Rate [BPM]',\n",
    "                          alpha=0.75, vmin=60, vmax=130, interval=10, pad=0.175, title_pad=1)\n",
    "    \n",
    "    plot_txt_fmtd = PLOT_TXT_FMT.format(steps_avg, bpm_avg, dist_hourly_avg,\n",
    "                                        total_steps, total_distance,\n",
    "                                        total_floors, total_calories)\n",
    "\n",
    "    vis.set_axtext(ax, plot_txt_fmtd, loc='bottom right')\n",
    "    base_dir = pre.mkdir(base_dir)\n",
    "    \n",
    "    if mark:\n",
    "        for i, dt in enumerate(dts):\n",
    "            vis.annotate_point(ax, dt,\n",
    "                               df['distance_cumsum'][round_to_nearest_minute(dt)],\n",
    "                               '<-- Pic {0}'.format(i + 1), size=12,\n",
    "                               alpha=0.95, color=vis.COLORS['gray'], bbox=None)\n",
    "    \n",
    "    save = vis.savefig('{0}/overview.png'.format(base_dir), tight_layout=True)\n",
    "    \n",
    "def stamp_imgs(img_fp_list):\n",
    "    dt_list = []\n",
    "    for img_fp in img_fp_list:\n",
    "        try:\n",
    "            dt = get_dt_from_img(img_fp)\n",
    "            dt_list.append(dt)\n",
    "            dt_rounded = round_to_nearest_minute(dt)\n",
    "            ds = df.loc[dt_rounded]\n",
    "            mi = sci.convert(ds.distance_cumsum, km2mi=True)\n",
    "            img_txt_fmtd = IMG_TXT_FMT.format(dt=dt_rounded,\n",
    "                                              month=dt.strftime('%b'),\n",
    "                                              hour=dt.strftime('%I'),\n",
    "                                              ampm=dt.strftime('%p'),\n",
    "                                              steps=ds.steps_cumsum,\n",
    "                                              km=ds.distance_cumsum,\n",
    "                                              mi=mi,\n",
    "                                              bpm=ds.bpm\n",
    "                                              )\n",
    "            img = Image.open(img_fp)\n",
    "            draw = ImageDraw.Draw(img)\n",
    "            x, y, z = np.shape(img)\n",
    "            draw.text((30, 20),\n",
    "                      img_txt_fmtd,\n",
    "                      SHADOW_COLOR,\n",
    "                      font=FONT)\n",
    "            draw.text((25, 15),\n",
    "                      img_txt_fmtd,\n",
    "                      COLOR,\n",
    "                      font=FONT)\n",
    "            img_stamped_fp = ext.append_to_fn(img_fp, '_stamped')\n",
    "            img.save(img_stamped_fp)\n",
    "            _ = os.system('mv {0} {1}'.format(img_fp, orig_dir))\n",
    "        except:\n",
    "            ext.report_err()\n",
    "    return dt_list\n",
    "\n",
    "def plot_steps_bpm(df, dts=None):\n",
    "    if dts is not None:\n",
    "        df = df.loc[df.index <= dts[-1]]\n",
    "        mark = True\n",
    "    elif dts is None:\n",
    "        dts = pd.date_range(START_DT_STR, END_DT_STR, freq='1Min')\n",
    "        mark = False\n",
    "\n",
    "    title_fmtd = OVERVIEW_TITLE_FMT.format(hr1=dts[0].strftime('%I'),\n",
    "                                           min1=dts[0].strftime('%M'),\n",
    "                                           ampm1=dts[0].strftime('%p'),\n",
    "                                           hr2=dts[-1].strftime('%I'),\n",
    "                                           min2=dts[-1].strftime('%M'),\n",
    "                                           ampm2=dts[-1].strftime('%p')\n",
    "                                           )\n",
    "\n",
    "    ax = vis.plot_line(df.index, df['bpm'], label='Beats per Minute', xlabel=XLABEL,\n",
    "                       ylabel='Heart Rate / Pace', length_scale=False)\n",
    "    ax = vis.plot_bar(df.index, df['steps'], alpha=0.5, bar_vals=False, label='Steps per Minute', \n",
    "                      ylim=(0, 175), xlim=(dts[0], dts[-1] + datetime.timedelta(minutes=10)),\n",
    "                      color=vis.COLORS['blue'], width=0.0001, figsize='na', title=title_fmtd, length_scale=False)\n",
    "\n",
    "    if mark:\n",
    "        for i, dt in enumerate(dts):\n",
    "            vis.annotate_point(ax, dt,\n",
    "                               df['bpm'][round_to_nearest_minute(dt)],\n",
    "                               '<-- Pic {0}'.format(i + 1), size=12,\n",
    "                               alpha=0.95, color=vis.COLORS['gray'], bbox=None)\n",
    "    \n",
    "    save = vis.savefig('{0}/detailed.png'.format(base_dir), tight_layout=True)"
   ]
  },
  {
   "cell_type": "code",
   "execution_count": 45,
   "metadata": {
    "collapsed": false
   },
   "outputs": [],
   "source": [
    "df1 = pre.read_csv('data/activity_070817.csv', date='ACTIVITY DATE/TIME').resample('1Min').mean()\n",
    "df2 = pre.read_csv('data/heart_070817.csv', date='HEART RATE DATE/TIME').resample('1Min').mean()\n",
    "df = pre.merge(df1, df2).dropna(axis=0)\n",
    "df.columns = 'calories, steps, distance, floors, bpm'.split(', ')\n",
    "df = df.loc[df.index > START_DT_STR]\n",
    "df['distance_cumsum'] = np.cumsum(df.distance)\n",
    "df['steps_cumsum'] = np.cumsum(df.steps)"
   ]
  },
  {
   "cell_type": "code",
   "execution_count": 46,
   "metadata": {
    "collapsed": false
   },
   "outputs": [],
   "source": [
    "base_dir = 'aftermath'\n",
    "\n",
    "plot_summary(df, base_dir)"
   ]
  },
  {
   "cell_type": "code",
   "execution_count": 47,
   "metadata": {
    "collapsed": false
   },
   "outputs": [],
   "source": [
    "base_dir = 'inopportune_start'\n",
    "orig_dir = pre.mkdir(os.path.join(base_dir, 'original'))\n",
    "\n",
    "img_fp_list = ext.glob('{0}/*.jpg'.format(base_dir))\n",
    "dt_list = stamp_imgs(img_fp_list)\n",
    "dts = pd.DatetimeIndex(dt_list)\n",
    "plot_summary(df, base_dir, dts)\n",
    "plot_steps_bpm(df, dts=dts)"
   ]
  },
  {
   "cell_type": "code",
   "execution_count": null,
   "metadata": {
    "collapsed": false
   },
   "outputs": [],
   "source": []
  },
  {
   "cell_type": "code",
   "execution_count": null,
   "metadata": {
    "collapsed": true
   },
   "outputs": [],
   "source": []
  }
 ],
 "metadata": {
  "kernelspec": {
   "display_name": "Python 3",
   "language": "python",
   "name": "python3"
  },
  "language_info": {
   "codemirror_mode": {
    "name": "ipython",
    "version": 3
   },
   "file_extension": ".py",
   "mimetype": "text/x-python",
   "name": "python",
   "nbconvert_exporter": "python",
   "pygments_lexer": "ipython3",
   "version": "3.6.1"
  }
 },
 "nbformat": 4,
 "nbformat_minor": 2
}
