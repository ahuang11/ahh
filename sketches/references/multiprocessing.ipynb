{
 "cells": [
  {
   "cell_type": "code",
   "execution_count": 131,
   "metadata": {
    "collapsed": false
   },
   "outputs": [],
   "source": [
    "import os\n",
    "import numpy as np\n",
    "from itertools import repeat\n",
    "from multiprocessing import Pool"
   ]
  },
  {
   "cell_type": "code",
   "execution_count": 132,
   "metadata": {
    "collapsed": true
   },
   "outputs": [],
   "source": [
    "# setup\n",
    "files = ['data_yr{0:02d}.nc'.format(i) for i in range(1, 101)] * 10000 # just to make multiprocessing worth it\n",
    "processed_fmt = 'processed_{file}'\n",
    "processed_files = []"
   ]
  },
  {
   "cell_type": "code",
   "execution_count": 133,
   "metadata": {
    "collapsed": false
   },
   "outputs": [
    {
     "name": "stdout",
     "output_type": "stream",
     "text": [
      "['processed_data_yr01.nc', 'processed_data_yr02.nc', 'processed_data_yr03.nc', 'processed_data_yr04.nc', 'processed_data_yr05.nc', 'processed_data_yr06.nc', 'processed_data_yr07.nc', 'processed_data_yr08.nc', 'processed_data_yr09.nc', 'processed_data_yr10.nc']\n",
      "CPU times: user 848 ms, sys: 5 ms, total: 853 ms\n",
      "Wall time: 847 ms\n"
     ]
    }
   ],
   "source": [
    "%%time\n",
    "# serial/for loop method\n",
    "for file in files:\n",
    "    processed_files.append(processed_fmt.format(file=file)) # essentially attach \"processed_\" as a prefix\n",
    "print(processed_files[0:10])"
   ]
  },
  {
   "cell_type": "code",
   "execution_count": 134,
   "metadata": {
    "collapsed": false
   },
   "outputs": [
    {
     "name": "stdout",
     "output_type": "stream",
     "text": [
      "['processed_data_yr01.nc', 'processed_data_yr02.nc', 'processed_data_yr03.nc', 'processed_data_yr04.nc', 'processed_data_yr05.nc', 'processed_data_yr06.nc', 'processed_data_yr07.nc', 'processed_data_yr08.nc', 'processed_data_yr09.nc', 'processed_data_yr10.nc']\n",
      "CPU times: user 249 ms, sys: 218 ms, total: 467 ms\n",
      "Wall time: 687 ms\n"
     ]
    }
   ],
   "source": [
    "%%time\n",
    "# multiprocessing pool method\n",
    "def process_file(file): # define a function wrapper\n",
    "    return processed_fmt.format(file=file) # do your stuff in here\n",
    "\n",
    "pool = Pool(4)\n",
    "processed_files = pool.map(process_file, files)\n",
    "pool.close()\n",
    "pool.join()\n",
    "print(processed_files[0:10])"
   ]
  },
  {
   "cell_type": "code",
   "execution_count": 135,
   "metadata": {
    "collapsed": false
   },
   "outputs": [
    {
     "name": "stdout",
     "output_type": "stream",
     "text": [
      "['renamed_data_yr01.txt', 'renamed_data_yr02.txt', 'renamed_data_yr03.txt', 'renamed_data_yr04.txt', 'renamed_data_yr05.txt', 'renamed_data_yr06.txt', 'renamed_data_yr07.txt', 'renamed_data_yr08.txt', 'renamed_data_yr09.txt', 'renamed_data_yr10.txt']\n",
      "CPU times: user 670 ms, sys: 283 ms, total: 953 ms\n",
      "Wall time: 1.25 s\n"
     ]
    }
   ],
   "source": [
    "%%time\n",
    "# what if you need to use more than one input? dump all your arguments into a tuple or list\n",
    "file_fmt = '{prefix}_{file}.{suffix}'\n",
    "\n",
    "prefix = 'renamed'\n",
    "suffix = 'txt'\n",
    "arg_tup = zip(files, repeat(prefix), repeat(suffix)) # see cell below to see what this does\n",
    "\n",
    "def rename_file(arg_tup):\n",
    "    file = arg_tup[0] # unravel the arg tuple\n",
    "    prefix = arg_tup[1] # just know what you put in there\n",
    "    suffix = arg_tup[2] # in order\n",
    "    return file_fmt.format(prefix=prefix, file=file[:-3], suffix=suffix) # just removing the .nc\n",
    "\n",
    "pool = Pool(4)\n",
    "processed_files = pool.map(rename_file, arg_tup)\n",
    "pool.close()\n",
    "pool.join()\n",
    "print(processed_files[0:10])"
   ]
  },
  {
   "cell_type": "code",
   "execution_count": 136,
   "metadata": {
    "collapsed": false
   },
   "outputs": [
    {
     "data": {
      "text/plain": [
       "(('some', 'renamed', 'txt'),\n",
       " ('thing', 'renamed', 'txt'),\n",
       " ('special', 'renamed', 'txt'))"
      ]
     },
     "execution_count": 136,
     "metadata": {},
     "output_type": "execute_result"
    }
   ],
   "source": [
    "tuple(zip(['some', 'thing', 'special'], repeat(prefix), repeat(suffix)))"
   ]
  },
  {
   "cell_type": "code",
   "execution_count": 137,
   "metadata": {
    "collapsed": true
   },
   "outputs": [],
   "source": [
    "from mpi4py import MPI # now for across nodes and processors which is more complicated\n",
    "from mpi4py.MPI import ANY_SOURCE"
   ]
  },
  {
   "cell_type": "code",
   "execution_count": 138,
   "metadata": {
    "collapsed": false
   },
   "outputs": [
    {
     "name": "stdout",
     "output_type": "stream",
     "text": [
      "0:00:13.806838\n",
      "['renamed_data_yr01.txt' 'renamed_data_yr02.txt' 'renamed_data_yr03.txt'\n",
      " 'renamed_data_yr04.txt' 'renamed_data_yr05.txt' 'renamed_data_yr06.txt'\n",
      " 'renamed_data_yr07.txt' 'renamed_data_yr08.txt' 'renamed_data_yr09.txt'\n",
      " 'renamed_data_yr10.txt']\n"
     ]
    }
   ],
   "source": [
    "def rename_file(arg_tup):\n",
    "    file = arg_tup[0] # unravel the arg tuple\n",
    "    prefix = arg_tup[1] # just know what you put in there\n",
    "    suffix = arg_tup[2] # in order\n",
    "    return file_fmt.format(prefix=prefix, file=file[:-3], suffix=suffix) # just removing the .nc\n",
    "    \n",
    "def rename_file_overarching(files): # change it a bit\n",
    "    prefix = 'renamed'\n",
    "    suffix = 'txt'\n",
    "    arg_tup = zip(files, repeat(prefix), repeat(suffix))\n",
    "\n",
    "    pool = Pool(4)\n",
    "    processed_files = pool.map(rename_file, arg_tup)\n",
    "    pool.close()\n",
    "    pool.join()\n",
    "    return processed_files\n",
    "\n",
    "start = datetime.datetime.utcnow()\n",
    "\n",
    "comm = MPI.COMM_WORLD # init NECESSARY\n",
    "rank = comm.Get_rank() # each node gets a rank from 0 to however nodes you have NECESSARY\n",
    "size = comm.Get_size() # size is number of nodes NECESSARY\n",
    "\n",
    "rank0_files = np.zeros(1) # rank0 is master node MUST BE IN NUMPY ARRAY\n",
    "not_rank0_files = np.zeros(1) # other ranks are other nodes MUST BE IN NUMPY ARRAY\n",
    "\n",
    "files_to_process_per_node = np.array_split(files, size) # split up the work\n",
    "# if there are 10 files and 2 nodes, the first 5 files goes to rank0/node1 and the other 5 goes to rank1/node2\n",
    "# if it's 11 file files and 2 nodes, the first 6 files goes to rank0/node1 and the other 5 goes to rank1/node2\n",
    "# see np.array_split doc; however I dont have access to more than one node and when I do, it crashes >.>\n",
    "\n",
    "renamed_file = rename_file_overarching(files_to_process_per_node[rank]) # your function(files_to_parallel_process[node_rank])\n",
    "# ^^^ every node runs this step\n",
    "\n",
    "if rank == 0: # now here is where the master node0 does all the preparation to receive and receiving\n",
    "    renamed_files = np.array([]) # prepare empty list for appending/attachment\n",
    "    renamed_files = np.append(renamed_files, renamed_file) # attach node0 results\n",
    "    for i in range(1, size): # if I used more than one node...\n",
    "        comm.Recv(not_rank0_files, ANY_SOURCE) # receive from \"LOOK AT ME HERE\" down there\n",
    "        renamed_files = np.append(renamed_file, not_rank0_files) # attach to the original node0 results\n",
    "else:\n",
    "    # all other process send their result\n",
    "    print('huh more than one node? should not have happened because this is only one comp')\n",
    "    comm.Send(renamed_file) # send to node0 LOOK AT ME HERE\n",
    "    \n",
    "end = datetime.datetime.utcnow()\n",
    "print(end - start)\n",
    "print(renamed_files[0:10])"
   ]
  },
  {
   "cell_type": "code",
   "execution_count": null,
   "metadata": {
    "collapsed": true
   },
   "outputs": [],
   "source": []
  }
 ],
 "metadata": {
  "kernelspec": {
   "display_name": "Python 3",
   "language": "python",
   "name": "python3"
  },
  "language_info": {
   "codemirror_mode": {
    "name": "ipython",
    "version": 3
   },
   "file_extension": ".py",
   "mimetype": "text/x-python",
   "name": "python",
   "nbconvert_exporter": "python",
   "pygments_lexer": "ipython3",
   "version": "3.6.0"
  }
 },
 "nbformat": 4,
 "nbformat_minor": 2
}
