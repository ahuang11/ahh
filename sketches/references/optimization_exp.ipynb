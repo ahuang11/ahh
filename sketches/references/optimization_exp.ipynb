{
 "cells": [
  {
   "cell_type": "code",
   "execution_count": 2,
   "metadata": {
    "collapsed": false
   },
   "outputs": [],
   "source": [
    "import numpy as np\n",
    "import pandas as pd\n",
    "import numpy.ma as ma\n",
    "from ahh import era\n",
    "import datetime"
   ]
  },
  {
   "cell_type": "code",
   "execution_count": 16,
   "metadata": {
    "collapsed": false
   },
   "outputs": [
    {
     "name": "stdout",
     "output_type": "stream",
     "text": [
      "3\n",
      "[array([0]), array([1]), array([2, 2, 2]), array([3])]\n"
     ]
    }
   ],
   "source": [
    "def consecutive_masked(data):\n",
    "    return np.split(data, np.where(np.diff(data) != 0)[0] + 1)\n",
    "\n",
    "# x = np.ma.array([1, 2, 3, 4, np.ma.masked, np.ma.masked, np.ma.masked, 5, 6, 7, np.ma.masked, np.ma.masked, 8, 9, 10, np.ma.masked, np.ma.masked, np.ma.masked, np.ma.masked])\n",
    "x = [0, 1, 1, 0, 0, 1]\n",
    "x = np.cumsum(x)\n",
    "\n",
    "consec_lists = consecutive_masked(x)\n",
    "len_list = []\n",
    "for alist in consec_lists:\n",
    "    len_list.append(len(alist))\n",
    "consec_max_len = np.max(len_list)\n",
    "print(consec_lists)\n",
    "\n",
    "# def get_len(data):\n",
    "#     return len(data)\n",
    "\n",
    "# vlen = np.vectorize(get_len)\n",
    "# start = era.dtnow()\n",
    "# vlen_list = vlen(consec_lists)\n",
    "# era.clockit(start, 'vec fancy len')\n",
    "\n",
    "# vlen = np.vectorize(len)\n",
    "# start = era.dtnow()\n",
    "# vlen_list = vlen(consec_lists)\n",
    "# era.clockit(start, 'vec basic len')\n",
    "\n",
    "# start = era.dtnow()\n",
    "# len_list = []\n",
    "# for consec_list in consec_lists:\n",
    "#     len_list.append(len(consec_list))\n",
    "# era.clockit(start, 'for loop')\n",
    "\n",
    "# start = era.dtnow()\n",
    "# len_list = [len(consec_list) for x in consec_lists]\n",
    "# era.clockit(start, 'list comp loop')\n",
    "\n",
    "# start = era.dtnow()\n",
    "# map(len, consec_lists)\n",
    "# era.clockit(start, 'map')"
   ]
  },
  {
   "cell_type": "code",
   "execution_count": 48,
   "metadata": {
    "collapsed": false
   },
   "outputs": [
    {
     "name": "stdout",
     "output_type": "stream",
     "text": [
      "vectorize straightforward\n",
      "0:00:57.744643\n",
      "\n",
      "vectorize predefined\n",
      "0:01:00.133218\n",
      "\n"
     ]
    }
   ],
   "source": [
    "# x = np.load('times.npy')\n",
    "# x = np.array(x, dtype=int)\n",
    "# x = np.array(x, dtype=str).tolist()\n",
    "# x = x * 1000\n",
    "\n",
    "# # st = era.dtnow()\n",
    "# # pd.to_datetime(x, format='%Y%j')\n",
    "# # era.clockit(st, 'pd')\n",
    "\n",
    "# # def time2dt(time):\n",
    "# #     return datetime.datetime.strptime(time, '%Y%j')\n",
    "\n",
    "# # st = era.dtnow()\n",
    "# # [datetime.datetime.strptime(y, '%Y%j') for y in x]\n",
    "# # era.clockit(st, 'list comp straightforward')\n",
    "\n",
    "# # st = era.dtnow()\n",
    "# # [time2dt(y) for y in x]\n",
    "# # era.clockit(st, 'list comp predefined')\n",
    "\n",
    "# # st = era.dtnow()\n",
    "# # map(lambda y: datetime.datetime.strptime(y, '%Y%j'), x)\n",
    "# # era.clockit(st, 'map straightforward')\n",
    "\n",
    "# # st = era.dtnow()\n",
    "# # map(time2dt, x)\n",
    "# # era.clockit(st, 'map predefined func')\n",
    "\n",
    "# st = era.dtnow()\n",
    "# vtime2dt = np.vectorize(datetime.datetime.strptime)\n",
    "# vtime2dt(x, '%Y%j')\n",
    "# era.clockit(st, 'vectorize straightforward')\n",
    "\n",
    "# st = era.dtnow()\n",
    "# vtime2dt = np.vectorize(time2dt)\n",
    "# vtime2dt(x)\n",
    "# era.clockit(st, 'vectorize predefined')\n",
    "\n",
    "# # st = era.dtnow()\n",
    "# # for y in x:\n",
    "# #     datetime.datetime.strptime(y, '%Y%j')\n",
    "# # era.clockit(st, 'for loop straightforward')\n",
    "\n",
    "# # st = era.dtnow()\n",
    "# # for y in x:\n",
    "# #     time2dt(y)\n",
    "# # era.clockit(st, 'for loop predefined')\n"
   ]
  },
  {
   "cell_type": "code",
   "execution_count": null,
   "metadata": {
    "collapsed": true
   },
   "outputs": [],
   "source": []
  }
 ],
 "metadata": {
  "anaconda-cloud": {},
  "kernelspec": {
   "display_name": "Python [conda root]",
   "language": "python",
   "name": "conda-root-py"
  },
  "language_info": {
   "codemirror_mode": {
    "name": "ipython",
    "version": 2
   },
   "file_extension": ".py",
   "mimetype": "text/x-python",
   "name": "python",
   "nbconvert_exporter": "python",
   "pygments_lexer": "ipython2",
   "version": "2.7.12"
  }
 },
 "nbformat": 4,
 "nbformat_minor": 1
}
