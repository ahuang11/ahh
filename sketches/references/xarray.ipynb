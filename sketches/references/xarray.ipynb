{
 "cells": [
  {
   "cell_type": "code",
   "execution_count": 1,
   "metadata": {
    "collapsed": false
   },
   "outputs": [],
   "source": [
    "import xarray as xr\n",
    "from ahh import exp, sci, ext, era"
   ]
  },
  {
   "cell_type": "code",
   "execution_count": 2,
   "metadata": {
    "collapsed": false
   },
   "outputs": [],
   "source": [
    "ds = exp.arr_ds() # import experimental dataset; NCEP tmp 1948"
   ]
  },
  {
   "cell_type": "code",
   "execution_count": 3,
   "metadata": {
    "collapsed": false
   },
   "outputs": [],
   "source": [
    "lats = ds['lat'].values\n",
    "lons = ds['lon'].values\n",
    "time = ds['time'].values\n",
    "air = ds['air'].values\n",
    "da = xr.DataArray(air, coords={'time': time, 'lat': lats, 'lon': lons},\n",
    "                  dims=('time', 'lat', 'lon')) # create a data array\n",
    "da.attrs = ds.attrs # copy over attributes (although a bit different)\n",
    "dv = da.variable # leave out coordinate data\n",
    "\n",
    "da_2 = ds['air'] # also can do this, but assuming you don't start out with a xr.dataset"
   ]
  },
  {
   "cell_type": "code",
   "execution_count": 4,
   "metadata": {
    "collapsed": false
   },
   "outputs": [
    {
     "data": {
      "text/plain": [
       "numpy.datetime64('1948-01-01T00:00:00.000000000')"
      ]
     },
     "execution_count": 4,
     "metadata": {},
     "output_type": "execute_result"
    },
    {
     "data": {
      "text/plain": [
       "numpy.datetime64('1949-12-31T00:00:00.000000000')"
      ]
     },
     "execution_count": 4,
     "metadata": {},
     "output_type": "execute_result"
    },
    {
     "data": {
      "text/plain": [
       "(numpy.datetime64('1948-01-01T00:00:00.000000000'),\n",
       " numpy.datetime64('1949-12-31T00:00:00.000000000'))"
      ]
     },
     "execution_count": 4,
     "metadata": {},
     "output_type": "execute_result"
    }
   ],
   "source": [
    "ds_t2 = exp.arr_ds(timestep=2) # import another ds; NCEP tmp 1949\n",
    "ds_list = [ds, ds_t2] # insert the datasets to concatenate across time axis\n",
    "ds_comb = xr.concat(ds_list, 'time') # combined dataset\n",
    "ds.time[0].values # first time step\n",
    "ds_t2.time[-1].values # last time step\n",
    "ds_comb.time[0].values, ds_comb.time[-1].values # contains both time steps"
   ]
  },
  {
   "cell_type": "code",
   "execution_count": 5,
   "metadata": {
    "collapsed": false
   },
   "outputs": [
    {
     "data": {
      "text/plain": [
       "<xarray.Dataset>\n",
       "Dimensions:  (lat: 73, lon: 144, time: 366)\n",
       "Coordinates:\n",
       "  * lat      (lat) float32 90.0 87.5 85.0 82.5 80.0 77.5 75.0 72.5 70.0 67.5 ...\n",
       "  * lon      (lon) float32 0.0 2.5 5.0 7.5 10.0 12.5 15.0 17.5 20.0 22.5 ...\n",
       "  * time     (time) datetime64[ns] 1948-01-01 1948-01-02 1948-01-03 ...\n",
       "Data variables:\n",
       "    t2m      (time, lat, lon) float64 238.1 238.1 238.1 238.1 238.1 238.1 ...\n",
       "    rh       (time, lat, lon) float64 89.25 89.25 89.25 89.25 89.25 89.25 ..."
      ]
     },
     "execution_count": 5,
     "metadata": {},
     "output_type": "execute_result"
    }
   ],
   "source": [
    "ds_v2 = exp.arr_ds(var='rh') # import another ds; NCEP rh 1948\n",
    "da = ds.air # get data array out\n",
    "da2 = ds_v2.rhum # get data array out\n",
    "ds_comb_v = xr.Dataset({'t2m': da, 'rh': da2}) # merge two different variables with same dimensions into one dataset\n",
    "ds_comb_v"
   ]
  },
  {
   "cell_type": "code",
   "execution_count": 32,
   "metadata": {
    "collapsed": false
   },
   "outputs": [
    {
     "data": {
      "text/plain": [
       "<xarray.Dataset>\n",
       "Dimensions:   (month: 12)\n",
       "Coordinates:\n",
       "  * month     (month) <U3 'NDJ' 'DJF' 'JFM' 'FMA' 'MAM' 'AMJ' 'MJJ' 'JJA' ...\n",
       "Data variables:\n",
       "    air       (month) float64 276.5 275.3 274.7 275.7 277.9 279.1 279.2 ...\n",
       "    terc_air  (month) float64 nan nan 275.5 275.2 276.1 277.6 278.7 279.2 ..."
      ]
     },
     "execution_count": 32,
     "metadata": {},
     "output_type": "execute_result"
    }
   ],
   "source": [
    "ds = exp.arr_ds() # import experimental dataset; NCEP tmp 1948\n",
    "ds_mth = ds.groupby('time.month').mean()\n",
    "da_seas = era.mth2terc(ds_mth['month'].values) # get seasonal values\n",
    "ds_seas = ds_mth.copy() # copy over dataset to prevent contamination\n",
    "ds_seas['month'] = da_seas\n",
    "ds_seas.assign(terc_air=(('month'), sci.get_terc_avg(ds_seas.air.values)))"
   ]
  },
  {
   "cell_type": "code",
   "execution_count": null,
   "metadata": {
    "collapsed": false
   },
   "outputs": [],
   "source": []
  },
  {
   "cell_type": "code",
   "execution_count": null,
   "metadata": {
    "collapsed": false
   },
   "outputs": [],
   "source": []
  },
  {
   "cell_type": "code",
   "execution_count": null,
   "metadata": {
    "collapsed": true
   },
   "outputs": [],
   "source": []
  }
 ],
 "metadata": {
  "kernelspec": {
   "display_name": "Python 3",
   "language": "python",
   "name": "python3"
  }
 },
 "nbformat": 4,
 "nbformat_minor": 2
}
