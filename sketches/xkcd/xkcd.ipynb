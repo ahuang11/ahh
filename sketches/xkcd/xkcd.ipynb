{
 "cells": [
  {
   "cell_type": "code",
   "execution_count": 1,
   "metadata": {
    "collapsed": false
   },
   "outputs": [
    {
     "name": "stderr",
     "output_type": "stream",
     "text": [
      "/home/solactus/anaconda3/lib/python3.5/site-packages/matplotlib/__init__.py:1405: UserWarning: \n",
      "This call to matplotlib.use() has no effect because the backend has already\n",
      "been chosen; matplotlib.use() must be called *before* pylab, matplotlib.pyplot,\n",
      "or matplotlib.backends is imported for the first time.\n",
      "\n",
      "  warnings.warn(_use_error_msg)\n"
     ]
    }
   ],
   "source": [
    "from ahh import vis\n",
    "import matplotlib.pyplot as plt"
   ]
  },
  {
   "cell_type": "code",
   "execution_count": 2,
   "metadata": {
    "collapsed": false
   },
   "outputs": [
    {
     "data": {
      "text/plain": [
       "<matplotlib.rc_context at 0x7fac2307f5c0>"
      ]
     },
     "execution_count": 2,
     "metadata": {},
     "output_type": "execute_result"
    },
    {
     "data": {
      "text/plain": [
       "[<matplotlib.lines.Line2D at 0x7fac24705ac8>]"
      ]
     },
     "execution_count": 2,
     "metadata": {},
     "output_type": "execute_result"
    },
    {
     "name": "stderr",
     "output_type": "stream",
     "text": [
      "/home/solactus/anaconda3/lib/python3.5/site-packages/matplotlib/font_manager.py:1297: UserWarning: findfont: Font family ['xkcd', 'Humor Sans', 'Comic Sans MS'] not found. Falling back to DejaVu Sans\n",
      "  (prop.get_family(), self.defaultFamily[fontext]))\n"
     ]
    },
    {
     "data": {
      "image/png": "[encoded data removed]",
      "text/plain": [
       "<matplotlib.figure.Figure at 0x7fac33664da0>"
      ]
     },
     "metadata": {},
     "output_type": "display_data"
    }
   ],
   "source": [
    "plt.xkcd()\n",
    "x = [1, 2, 3, 4]\n",
    "y = [1, 2, 3, 4]\n",
    "\n",
    "plt.plot(x, y)"
   ]
  },
  {
   "cell_type": "code",
   "execution_count": 3,
   "metadata": {
    "collapsed": false
   },
   "outputs": [
    {
     "name": "stdout",
     "output_type": "stream",
     "text": [
      "Help on function xkcd in module matplotlib.pyplot:\n",
      "\n",
      "xkcd(scale=1, length=100, randomness=2)\n",
      "    Turns on `xkcd <http://xkcd.com/>`_ sketch-style drawing mode.\n",
      "    This will only have effect on things drawn after this function is\n",
      "    called.\n",
      "    \n",
      "    For best results, the \"Humor Sans\" font should be installed: it is\n",
      "    not included with matplotlib.\n",
      "    \n",
      "    Parameters\n",
      "    ----------\n",
      "    scale : float, optional\n",
      "        The amplitude of the wiggle perpendicular to the source line.\n",
      "    length : float, optional\n",
      "        The length of the wiggle along the line.\n",
      "    randomness : float, optional\n",
      "        The scale factor by which the length is shrunken or expanded.\n",
      "    \n",
      "    Notes\n",
      "    -----\n",
      "    This function works by a number of rcParams, so it will probably\n",
      "    override others you have set before.\n",
      "    \n",
      "    If you want the effects of this function to be temporary, it can\n",
      "    be used as a context manager, for example::\n",
      "    \n",
      "        with plt.xkcd():\n",
      "            # This figure will be in XKCD-style\n",
      "            fig1 = plt.figure()\n",
      "            # ...\n",
      "    \n",
      "        # This figure will be in regular style\n",
      "        fig2 = plt.figure()\n",
      "\n"
     ]
    }
   ],
   "source": [
    "help(plt.xkcd)"
   ]
  },
  {
   "cell_type": "code",
   "execution_count": 4,
   "metadata": {
    "collapsed": false
   },
   "outputs": [
    {
     "data": {
      "text/plain": [
       "'module://ipykernel.pylab.backend_inline'"
      ]
     },
     "execution_count": 4,
     "metadata": {},
     "output_type": "execute_result"
    }
   ],
   "source": [
    "plt.get_backend()"
   ]
  },
  {
   "cell_type": "code",
   "execution_count": null,
   "metadata": {
    "collapsed": true
   },
   "outputs": [],
   "source": []
  }
 ],
 "metadata": {
  "kernelspec": {
   "display_name": "Python 3",
   "language": "python",
   "name": "python3"
  },
  "language_info": {
   "codemirror_mode": {
    "name": "ipython",
    "version": 3
   },
   "file_extension": ".py",
   "mimetype": "text/x-python",
   "name": "python",
   "nbconvert_exporter": "python",
   "pygments_lexer": "ipython3",
   "version": "3.5.3"
  }
 },
 "nbformat": 4,
 "nbformat_minor": 2
}
